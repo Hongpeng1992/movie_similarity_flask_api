{
 "cells": [
  {
   "cell_type": "code",
   "execution_count": 14,
   "metadata": {
    "collapsed": true
   },
   "outputs": [],
   "source": [
    "import requests\n",
    "import pandas as pd "
   ]
  },
  {
   "cell_type": "markdown",
   "metadata": {},
   "source": [
    "# Example Curl Request"
   ]
  },
  {
   "cell_type": "code",
   "execution_count": 15,
   "metadata": {},
   "outputs": [
    {
     "data": {
      "text/html": [
       "<div>\n",
       "<style scoped>\n",
       "    .dataframe tbody tr th:only-of-type {\n",
       "        vertical-align: middle;\n",
       "    }\n",
       "\n",
       "    .dataframe tbody tr th {\n",
       "        vertical-align: top;\n",
       "    }\n",
       "\n",
       "    .dataframe thead th {\n",
       "        text-align: right;\n",
       "    }\n",
       "</style>\n",
       "<table border=\"1\" class=\"dataframe\">\n",
       "  <thead>\n",
       "    <tr style=\"text-align: right;\">\n",
       "      <th></th>\n",
       "      <th>title</th>\n",
       "      <th>genres</th>\n",
       "      <th>ratings_count</th>\n",
       "      <th>avg_rating</th>\n",
       "    </tr>\n",
       "    <tr>\n",
       "      <th>movieId</th>\n",
       "      <th></th>\n",
       "      <th></th>\n",
       "      <th></th>\n",
       "      <th></th>\n",
       "    </tr>\n",
       "  </thead>\n",
       "  <tbody>\n",
       "    <tr>\n",
       "      <th>0</th>\n",
       "      <td>Jumanji (1995)</td>\n",
       "      <td>Adventure|Children|Fantasy</td>\n",
       "      <td>22243</td>\n",
       "      <td>3.211977</td>\n",
       "    </tr>\n",
       "    <tr>\n",
       "      <th>1</th>\n",
       "      <td>City of Lost Children, The (Cité des enfants p...</td>\n",
       "      <td>Adventure|Drama|Fantasy|Mystery|Sci-Fi</td>\n",
       "      <td>8520</td>\n",
       "      <td>3.952230</td>\n",
       "    </tr>\n",
       "    <tr>\n",
       "      <th>2</th>\n",
       "      <td>Twelve Monkeys (a.k.a. 12 Monkeys) (1995)</td>\n",
       "      <td>Mystery|Sci-Fi|Thriller</td>\n",
       "      <td>44980</td>\n",
       "      <td>3.898055</td>\n",
       "    </tr>\n",
       "    <tr>\n",
       "      <th>3</th>\n",
       "      <td>Seven (a.k.a. Se7en) (1995)</td>\n",
       "      <td>Mystery|Thriller</td>\n",
       "      <td>43249</td>\n",
       "      <td>4.053493</td>\n",
       "    </tr>\n",
       "    <tr>\n",
       "      <th>4</th>\n",
       "      <td>Usual Suspects, The (1995)</td>\n",
       "      <td>Crime|Mystery|Thriller</td>\n",
       "      <td>47006</td>\n",
       "      <td>4.334372</td>\n",
       "    </tr>\n",
       "  </tbody>\n",
       "</table>\n",
       "</div>"
      ],
      "text/plain": [
       "                                                     title  \\\n",
       "movieId                                                      \n",
       "0                                           Jumanji (1995)   \n",
       "1        City of Lost Children, The (Cité des enfants p...   \n",
       "2                Twelve Monkeys (a.k.a. 12 Monkeys) (1995)   \n",
       "3                              Seven (a.k.a. Se7en) (1995)   \n",
       "4                               Usual Suspects, The (1995)   \n",
       "\n",
       "                                         genres  ratings_count  avg_rating  \n",
       "movieId                                                                     \n",
       "0                    Adventure|Children|Fantasy          22243    3.211977  \n",
       "1        Adventure|Drama|Fantasy|Mystery|Sci-Fi           8520    3.952230  \n",
       "2                       Mystery|Sci-Fi|Thriller          44980    3.898055  \n",
       "3                              Mystery|Thriller          43249    4.053493  \n",
       "4                        Crime|Mystery|Thriller          47006    4.334372  "
      ]
     },
     "execution_count": 15,
     "metadata": {},
     "output_type": "execute_result"
    }
   ],
   "source": [
    "movies = pd.read_csv('data/movie_demographics.csv', index_col='movieId')\n",
    "movies.head()"
   ]
  },
  {
   "cell_type": "code",
   "execution_count": 16,
   "metadata": {
    "collapsed": true
   },
   "outputs": [],
   "source": [
    "def lookup_movie_id_by_title(movie_title):\n",
    "    return movies[movies.title.str.contains(movie_title)]"
   ]
  },
  {
   "cell_type": "code",
   "execution_count": 17,
   "metadata": {},
   "outputs": [
    {
     "data": {
      "text/html": [
       "<div>\n",
       "<style scoped>\n",
       "    .dataframe tbody tr th:only-of-type {\n",
       "        vertical-align: middle;\n",
       "    }\n",
       "\n",
       "    .dataframe tbody tr th {\n",
       "        vertical-align: top;\n",
       "    }\n",
       "\n",
       "    .dataframe thead th {\n",
       "        text-align: right;\n",
       "    }\n",
       "</style>\n",
       "<table border=\"1\" class=\"dataframe\">\n",
       "  <thead>\n",
       "    <tr style=\"text-align: right;\">\n",
       "      <th></th>\n",
       "      <th>title</th>\n",
       "      <th>genres</th>\n",
       "      <th>ratings_count</th>\n",
       "      <th>avg_rating</th>\n",
       "    </tr>\n",
       "    <tr>\n",
       "      <th>movieId</th>\n",
       "      <th></th>\n",
       "      <th></th>\n",
       "      <th></th>\n",
       "      <th></th>\n",
       "    </tr>\n",
       "  </thead>\n",
       "  <tbody>\n",
       "    <tr>\n",
       "      <th>0</th>\n",
       "      <td>Jumanji (1995)</td>\n",
       "      <td>Adventure|Children|Fantasy</td>\n",
       "      <td>22243</td>\n",
       "      <td>3.211977</td>\n",
       "    </tr>\n",
       "  </tbody>\n",
       "</table>\n",
       "</div>"
      ],
      "text/plain": [
       "                  title                      genres  ratings_count  avg_rating\n",
       "movieId                                                                       \n",
       "0        Jumanji (1995)  Adventure|Children|Fantasy          22243    3.211977"
      ]
     },
     "execution_count": 17,
     "metadata": {},
     "output_type": "execute_result"
    }
   ],
   "source": [
    "lookup_movie_id_by_title(\"Jumanji\")"
   ]
  },
  {
   "cell_type": "code",
   "execution_count": 53,
   "metadata": {},
   "outputs": [
    {
     "data": {
      "text/plain": [
       "'/?movie_title=Queen+of+the+Damned+%282002%29&model=neural+network'"
      ]
     },
     "execution_count": 53,
     "metadata": {},
     "output_type": "execute_result"
    }
   ],
   "source": [
    "url = 'http://127.0.0.1:5000/'\n",
    "payload ={'movie_title': 'Lord of the Rings: The Fellowship of the Ring, The (2001)'}\n",
    "#'Zodiac (2007)'\n",
    "#'Grease (1978)'\n",
    "#'Dirty Dancing (1987)'\n",
    "#'Aladdin (1992)'\n",
    "#'Moon (2009)'\n",
    "payload ={'movie_title': 'Queen of the Damned (2002)', 'model': 'neural network'}\n",
    "response = requests.get(url, payload)\n",
    "response.request.path_url"
   ]
  },
  {
   "cell_type": "code",
   "execution_count": 59,
   "metadata": {},
   "outputs": [
    {
     "data": {
      "text/plain": [
       "['Underworld (2003)',\n",
       " 'Van Helsing (2004)',\n",
       " 'Dracula 2000 (2000)',\n",
       " 'Blade II (2002)',\n",
       " 'Blade: Trinity (2004)',\n",
       " 'Underworld: Evolution (2006)',\n",
       " 'Once Bitten (1985)',\n",
       " 'Night Watch (Nochnoy dozor) (2004)',\n",
       " 'Librarian, The: The Curse of the Judas Chalice (2008)',\n",
       " 'Underworld: Rise of the Lycans (2009)',\n",
       " '30 Days of Night (2007)',\n",
       " \"Dracula (Bram Stoker's Dracula) (1992)\",\n",
       " 'Blood: The Last Vampire (2009)',\n",
       " 'League of Extraordinary Gentlemen, The (a.k.a. LXG) (2003)',\n",
       " 'Lost Boys: The Thirst (2010)',\n",
       " 'Daybreakers (2010)',\n",
       " 'Blade (1998)',\n",
       " 'Monster Squad, The (1987)',\n",
       " 'BloodRayne (2005)',\n",
       " 'Jeepers Creepers (2001)']"
      ]
     },
     "execution_count": 59,
     "metadata": {},
     "output_type": "execute_result"
    }
   ],
   "source": [
    "payload ={'movie_title': 'Queen of the Damned (2002)', 'model': 'matrix factorization'}\n",
    "response = requests.get(url, payload)\n",
    "response.json()"
   ]
  },
  {
   "cell_type": "code",
   "execution_count": 63,
   "metadata": {},
   "outputs": [
    {
     "name": "stdout",
     "output_type": "stream",
     "text": [
      "[\"Underworld (2003)\", \"Van Helsing (2004)\", \"Dracula 2000 (2000)\", \"Blade II (2002)\", \"Blade: Trinity (2004)\", \"Underworld: Evolution (2006)\", \"Once Bitten (1985)\", \"Night Watch (Nochnoy dozor) (2004)\", \"Librarian, The: The Curse of the Judas Chalice (2008)\", \"Underworld: Rise of the Lycans (2009)\", \"30 Days of Night (2007)\", \"Dracula (Bram Stoker's Dracula) (1992)\", \"Blood: The Last Vampire (2009)\", \"League of Extraordinary Gentlemen, The (a.k.a. LXG) (2003)\", \"Lost Boys: The Thirst (2010)\", \"Daybreakers (2010)\", \"Blade (1998)\", \"Monster Squad, The (1987)\", \"BloodRayne (2005)\", \"Jeepers Creepers (2001)\"]\r\n"
     ]
    }
   ],
   "source": [
    "!curl -X GET http://127.0.0.1:5000/ -d \"movie_title=Queen of the Damned (2002)\" -d \"model=matrix factorization\""
   ]
  },
  {
   "cell_type": "code",
   "execution_count": null,
   "metadata": {
    "collapsed": true
   },
   "outputs": [],
   "source": []
  }
 ],
 "metadata": {
  "kernelspec": {
   "display_name": "my-movie-recommender",
   "language": "python",
   "name": "my-movie-recommender"
  },
  "language_info": {
   "codemirror_mode": {
    "name": "ipython",
    "version": 3
   },
   "file_extension": ".py",
   "mimetype": "text/x-python",
   "name": "python",
   "nbconvert_exporter": "python",
   "pygments_lexer": "ipython3",
   "version": "3.6.5"
  },
  "toc": {
   "colors": {
    "hover_highlight": "#DAA520",
    "navigate_num": "#000000",
    "navigate_text": "#333333",
    "running_highlight": "#FF0000",
    "selected_highlight": "#FFD700",
    "sidebar_border": "#EEEEEE",
    "wrapper_background": "#FFFFFF"
   },
   "moveMenuLeft": true,
   "nav_menu": {
    "height": "11px",
    "width": "252px"
   },
   "navigate_menu": true,
   "number_sections": true,
   "sideBar": true,
   "skip_h1_title": false,
   "threshold": 4,
   "toc_cell": false,
   "toc_section_display": "block",
   "toc_window_display": false,
   "widenNotebook": false
  }
 },
 "nbformat": 4,
 "nbformat_minor": 2
}
